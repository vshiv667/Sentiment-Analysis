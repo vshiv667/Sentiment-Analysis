{
  "nbformat": 4,
  "nbformat_minor": 0,
  "metadata": {
    "accelerator": "GPU",
    "colab": {
      "name": "Sentiment Analysis -Twitter.ipynb",
      "provenance": [],
      "collapsed_sections": [],
      "include_colab_link": true
    },
    "kernelspec": {
      "display_name": "Python 3",
      "name": "python3"
    }
  },
  "cells": [
    {
      "cell_type": "markdown",
      "metadata": {
        "id": "view-in-github",
        "colab_type": "text"
      },
      "source": [
        "<a href=\"https://colab.research.google.com/github/vshiv667/Sentiment-Analysis/blob/master/Sentiment_Analysis_Twitter.ipynb\" target=\"_parent\"><img src=\"https://colab.research.google.com/assets/colab-badge.svg\" alt=\"Open In Colab\"/></a>"
      ]
    },
    {
      "cell_type": "markdown",
      "metadata": {
        "id": "hoEcFkD19Mng",
        "colab_type": "text"
      },
      "source": [
        "# Import Libraries"
      ]
    },
    {
      "cell_type": "code",
      "metadata": {
        "colab_type": "code",
        "id": "hmA6EzkQJ5jt",
        "colab": {}
      },
      "source": [
        "import json\n",
        "import tensorflow as tf\n",
        "import csv\n",
        "import random\n",
        "import numpy as np\n",
        "\n",
        "from tensorflow.keras.preprocessing.text import Tokenizer\n",
        "from tensorflow.keras.preprocessing.sequence import pad_sequences\n",
        "from tensorflow.keras.utils import to_categorical\n",
        "from tensorflow.keras import regularizers\n"
      ],
      "execution_count": 0,
      "outputs": []
    },
    {
      "cell_type": "markdown",
      "metadata": {
        "id": "tIYgsZUR-Cec",
        "colab_type": "text"
      },
      "source": [
        "# Import Dataset"
      ]
    },
    {
      "cell_type": "code",
      "metadata": {
        "colab_type": "code",
        "id": "bM0l_dORKqE0",
        "outputId": "712def93-f277-4e99-a442-9221c3fab8a6",
        "colab": {
          "base_uri": "https://localhost:8080/",
          "height": 212
        }
      },
      "source": [
        "\n",
        "!wget --no-check-certificate \\\n",
        "    https://storage.googleapis.com/laurencemoroney-blog.appspot.com/training_cleaned.csv \\\n",
        "    -O /tmp/training_cleaned.csv\n",
        "\n",
        "num_sentences = 0\n",
        "corpus = [] #list to store our corpus\n",
        "\n",
        "with open(\"/tmp/training_cleaned.csv\") as csvfile:\n",
        "    reader = csv.reader(csvfile, delimiter=',')\n",
        "    for row in reader: \n",
        "        list_item=[]\n",
        "        list_item.append(row[5]) # 1st item in list_item is the text found in index [5];\n",
        "        if row[0]=='0':  # 2nd item is the label. 0 if the first item of the row is '0'. Otherwise,'1'\n",
        "          list_item.append(0)\n",
        "        else:\n",
        "          list_item.append(1)\n",
        "        \n",
        "        num_sentences = num_sentences + 1 #counter\n",
        "        corpus.append(list_item) #list of lists: corpus[[list_item],[list_item],...]\n"
      ],
      "execution_count": 0,
      "outputs": [
        {
          "output_type": "stream",
          "text": [
            "--2020-06-10 22:26:53--  https://storage.googleapis.com/laurencemoroney-blog.appspot.com/training_cleaned.csv\n",
            "Resolving storage.googleapis.com (storage.googleapis.com)... 108.177.119.128, 2a00:1450:4013:c05::80\n",
            "Connecting to storage.googleapis.com (storage.googleapis.com)|108.177.119.128|:443... connected.\n",
            "HTTP request sent, awaiting response... 200 OK\n",
            "Length: 238942690 (228M) [application/octet-stream]\n",
            "Saving to: ‘/tmp/training_cleaned.csv’\n",
            "\n",
            "/tmp/training_clean 100%[===================>] 227.87M  50.6MB/s    in 4.5s    \n",
            "\n",
            "2020-06-10 22:26:58 (50.6 MB/s) - ‘/tmp/training_cleaned.csv’ saved [238942690/238942690]\n",
            "\n"
          ],
          "name": "stdout"
        }
      ]
    },
    {
      "cell_type": "code",
      "metadata": {
        "colab_type": "code",
        "id": "3kxblBUjEUX-",
        "outputId": "d422ecbf-ee66-4984-dbb4-52dce21e86af",
        "colab": {
          "base_uri": "https://localhost:8080/",
          "height": 70
        }
      },
      "source": [
        "print(num_sentences)\n",
        "print(len(corpus))\n",
        "print(corpus[1])\n"
      ],
      "execution_count": 0,
      "outputs": [
        {
          "output_type": "stream",
          "text": [
            "1600000\n",
            "1600000\n",
            "[\"is upset that he can't update his Facebook by texting it... and might cry as a result  School today also. Blah!\", 0]\n"
          ],
          "name": "stdout"
        }
      ]
    },
    {
      "cell_type": "markdown",
      "metadata": {
        "id": "xDf0ZjIsFaW7",
        "colab_type": "text"
      },
      "source": [
        "# Padding"
      ]
    },
    {
      "cell_type": "code",
      "metadata": {
        "colab_type": "code",
        "id": "ohOGz24lsNAD",
        "colab": {}
      },
      "source": [
        "embedding_dim = 100 #embedding dimensions, GloVe 100-D used here\n",
        "max_length = 16     #set max input length\n",
        "trunc_type='post'   #trunc type\n",
        "padding_type='post' #padding type\n",
        "oov_tok = \"<OOV>\"\n",
        "training_size= 1600000  # 1.6 million tweets\n",
        "test_portion=.1         # used as validation set\n",
        "\n",
        "\n",
        "\n",
        "sentences=[] #list to store tweets\n",
        "labels=[] #list to store labels\n",
        "random.shuffle(corpus)\n",
        "\n",
        "for x in range(training_size):\n",
        "    sentences.append(corpus[x][0]) #text part of inner list\n",
        "    labels.append(corpus[x][1])    #label part\n",
        "\n",
        "\n",
        "tokenizer = Tokenizer()           #tokenizer object\n",
        "tokenizer.fit_on_texts(sentences) #create a word->index dictionary, each word gets an unique integer index\n",
        "\n",
        "word_index = tokenizer.word_index  #get the word->index dictionary \n",
        "vocab_size=len(word_index)+1       #get length of dictionary\n",
        "\n",
        "sequences = tokenizer.texts_to_sequences(sentences) #replace words with their indexes to feed into network\n",
        "padded = pad_sequences(sequences, maxlen = max_length, padding = padding_type, truncating = trunc_type) #add padding to ensure all sequences have same length\n",
        "\n",
        "split = int(test_portion * training_size) #return number of int, default is float: xx.0\n",
        "\n",
        "#specify train and test instances\n",
        "test_sequences = padded[0:split]\n",
        "training_sequences = padded[split:]\n",
        "test_labels = labels[0:split] \n",
        "training_labels = labels[split:]"
      ],
      "execution_count": 0,
      "outputs": []
    },
    {
      "cell_type": "code",
      "metadata": {
        "colab_type": "code",
        "id": "gIrtRem1En3N",
        "outputId": "67466b39-0c88-4ca9-d9fa-d10358e4a0eb",
        "colab": {
          "base_uri": "https://localhost:8080/",
          "height": 70
        }
      },
      "source": [
        "print(vocab_size)\n",
        "print(word_index['hi'])\n",
        "print(word_index['india'])\n"
      ],
      "execution_count": 0,
      "outputs": [
        {
          "output_type": "stream",
          "text": [
            "690961\n",
            "307\n",
            "2718\n"
          ],
          "name": "stdout"
        }
      ]
    },
    {
      "cell_type": "markdown",
      "metadata": {
        "id": "ujsWdJrA_ik0",
        "colab_type": "text"
      },
      "source": [
        "# Use GloVe 100-D"
      ]
    },
    {
      "cell_type": "code",
      "metadata": {
        "colab_type": "code",
        "id": "C1zdgJkusRh0",
        "outputId": "82cbbf10-640b-4ecc-fb3d-52fe7d1640e3",
        "colab": {
          "base_uri": "https://localhost:8080/",
          "height": 212
        }
      },
      "source": [
        "\n",
        "!wget --no-check-certificate \\\n",
        "    https://storage.googleapis.com/laurencemoroney-blog.appspot.com/glove.6B.100d.txt \\\n",
        "    -O /tmp/glove.6B.100d.txt\n",
        "embeddings_index = {}; #dictionary to store GloVe 100-D \n",
        "with open('/tmp/glove.6B.100d.txt') as f:\n",
        "    for line in f:\n",
        "        values = line.split();\n",
        "        word = values[0]; #first value is our word\n",
        "        coefs = np.asarray(values[1:], dtype='float32'); #rest 100 values are coefs for that word based on GloVe\n",
        "        embeddings_index[word] = coefs; #store in a dictionary\n",
        "\n",
        "embeddings_matrix = np.zeros((vocab_size, embedding_dim)); #create a 138319 x 100 array with zeros\n",
        "for word, i in word_index.items(): \n",
        "    embedding_vector = embeddings_index.get(word); #for every word in our corpus get corresponding word index (indexes) from GloVe\n",
        "    if embedding_vector is not None: #if word index (indexes) exists (i.e. word is present in both) then, \n",
        "        embeddings_matrix[i] = embedding_vector;                #store GloVe word index (indexes) at its current corpus word index (i.e. corresponding matrix(2D array) row no.)"
      ],
      "execution_count": 0,
      "outputs": [
        {
          "output_type": "stream",
          "text": [
            "--2020-06-10 22:28:17--  https://storage.googleapis.com/laurencemoroney-blog.appspot.com/glove.6B.100d.txt\n",
            "Resolving storage.googleapis.com (storage.googleapis.com)... 173.194.79.128, 2a00:1450:4013:c05::80\n",
            "Connecting to storage.googleapis.com (storage.googleapis.com)|173.194.79.128|:443... connected.\n",
            "HTTP request sent, awaiting response... 200 OK\n",
            "Length: 347116733 (331M) [text/plain]\n",
            "Saving to: ‘/tmp/glove.6B.100d.txt’\n",
            "\n",
            "/tmp/glove.6B.100d. 100%[===================>] 331.04M  63.2MB/s    in 5.2s    \n",
            "\n",
            "2020-06-10 22:28:24 (63.2 MB/s) - ‘/tmp/glove.6B.100d.txt’ saved [347116733/347116733]\n",
            "\n"
          ],
          "name": "stdout"
        }
      ]
    },
    {
      "cell_type": "code",
      "metadata": {
        "colab_type": "code",
        "id": "71NLk_lpFLNt",
        "outputId": "308dd06a-d9f5-419b-8406-bd960394c323",
        "colab": {
          "base_uri": "https://localhost:8080/",
          "height": 34
        }
      },
      "source": [
        "print(len(embeddings_matrix))\n"
      ],
      "execution_count": 0,
      "outputs": [
        {
          "output_type": "stream",
          "text": [
            "690961\n"
          ],
          "name": "stdout"
        }
      ]
    },
    {
      "cell_type": "markdown",
      "metadata": {
        "id": "MRFrHaxyAvh8",
        "colab_type": "text"
      },
      "source": [
        "# Convolutional Neural Network using LSTM "
      ]
    },
    {
      "cell_type": "code",
      "metadata": {
        "colab_type": "code",
        "id": "iKKvbuEBOGFz",
        "outputId": "9c887549-b9c8-40cd-9e26-d6d91d1a8bc0",
        "colab": {
          "base_uri": "https://localhost:8080/",
          "height": 372
        }
      },
      "source": [
        "#convert to numpy array\n",
        "training_labels = np.asarray(training_labels)\n",
        "test_labels = np.asarray(test_labels)\n",
        "training_sequences = np.asarray(training_sequences)\n",
        "test_sequences= np.asarray(test_sequences)\n",
        "\n",
        "model = tf.keras.Sequential([\n",
        "    # Embedding layer\n",
        "    tf.keras.layers.Embedding(vocab_size, embedding_dim, input_length=max_length, weights=[embeddings_matrix], trainable=False), #use GloVe 100-D weights\n",
        "    # Dropout of 20%\n",
        "    tf.keras.layers.Dropout(0.2),\n",
        "    # Conv1D layer\n",
        "    tf.keras.layers.Conv1D(64, 5, activation='relu'),\n",
        "    # MaxPooling1D with size 4\n",
        "    tf.keras.layers.MaxPooling1D(4),\n",
        "    # LSTM layer\n",
        "    tf.keras.layers.Bidirectional(tf.keras.layers.LSTM(32,  return_sequences=True)), \n",
        "    # Output Dense layer\n",
        "    tf.keras.layers.Dense(1, activation='sigmoid')\n",
        "])\n",
        "model.compile( optimizer ='adam', loss = 'binary_crossentropy', metrics = ['accuracy'] ) \n",
        "\n",
        "model.summary() #view summary\n"
      ],
      "execution_count": 0,
      "outputs": [
        {
          "output_type": "stream",
          "text": [
            "Model: \"sequential\"\n",
            "_________________________________________________________________\n",
            "Layer (type)                 Output Shape              Param #   \n",
            "=================================================================\n",
            "embedding (Embedding)        (None, 16, 100)           69096100  \n",
            "_________________________________________________________________\n",
            "dropout (Dropout)            (None, 16, 100)           0         \n",
            "_________________________________________________________________\n",
            "conv1d (Conv1D)              (None, 12, 64)            32064     \n",
            "_________________________________________________________________\n",
            "max_pooling1d (MaxPooling1D) (None, 3, 64)             0         \n",
            "_________________________________________________________________\n",
            "bidirectional (Bidirectional (None, 3, 64)             24832     \n",
            "_________________________________________________________________\n",
            "dense (Dense)                (None, 3, 1)              65        \n",
            "=================================================================\n",
            "Total params: 69,153,061\n",
            "Trainable params: 56,961\n",
            "Non-trainable params: 69,096,100\n",
            "_________________________________________________________________\n"
          ],
          "name": "stdout"
        }
      ]
    },
    {
      "cell_type": "markdown",
      "metadata": {
        "id": "qsj_cvW1BcHj",
        "colab_type": "text"
      },
      "source": [
        "# Fit Model"
      ]
    },
    {
      "cell_type": "code",
      "metadata": {
        "id": "OORqdsbWhSgT",
        "colab_type": "code",
        "outputId": "26ac9629-916c-4c46-cf59-5a180727608a",
        "colab": {
          "base_uri": "https://localhost:8080/",
          "height": 390
        }
      },
      "source": [
        "#fit model\n",
        "num_epochs = 10\n",
        "history = model.fit(training_sequences, training_labels, epochs=num_epochs, validation_data=(test_sequences, test_labels), verbose=2)\n",
        "\n",
        "print(\"Training Complete\")"
      ],
      "execution_count": 0,
      "outputs": [
        {
          "output_type": "stream",
          "text": [
            "Epoch 1/10\n",
            "45000/45000 - 220s - loss: 0.5207 - accuracy: 0.7368 - val_loss: 0.4858 - val_accuracy: 0.7616\n",
            "Epoch 2/10\n",
            "45000/45000 - 217s - loss: 0.4954 - accuracy: 0.7551 - val_loss: 0.4761 - val_accuracy: 0.7694\n",
            "Epoch 3/10\n",
            "45000/45000 - 219s - loss: 0.4888 - accuracy: 0.7598 - val_loss: 0.4734 - val_accuracy: 0.7701\n",
            "Epoch 4/10\n",
            "45000/45000 - 216s - loss: 0.4853 - accuracy: 0.7625 - val_loss: 0.4703 - val_accuracy: 0.7723\n",
            "Epoch 5/10\n",
            "45000/45000 - 216s - loss: 0.4832 - accuracy: 0.7637 - val_loss: 0.4696 - val_accuracy: 0.7731\n",
            "Epoch 6/10\n",
            "45000/45000 - 216s - loss: 0.4813 - accuracy: 0.7651 - val_loss: 0.4684 - val_accuracy: 0.7744\n",
            "Epoch 7/10\n",
            "45000/45000 - 215s - loss: 0.4808 - accuracy: 0.7657 - val_loss: 0.4673 - val_accuracy: 0.7754\n",
            "Epoch 8/10\n",
            "45000/45000 - 214s - loss: 0.4798 - accuracy: 0.7661 - val_loss: 0.4664 - val_accuracy: 0.7754\n",
            "Epoch 9/10\n",
            "45000/45000 - 213s - loss: 0.4792 - accuracy: 0.7667 - val_loss: 0.4662 - val_accuracy: 0.7759\n",
            "Epoch 10/10\n",
            "45000/45000 - 213s - loss: 0.4782 - accuracy: 0.7672 - val_loss: 0.4664 - val_accuracy: 0.7760\n",
            "Training Complete\n"
          ],
          "name": "stdout"
        }
      ]
    },
    {
      "cell_type": "markdown",
      "metadata": {
        "id": "tCaxDSbVBjpn",
        "colab_type": "text"
      },
      "source": [
        "# Visualize metrics"
      ]
    },
    {
      "cell_type": "code",
      "metadata": {
        "colab_type": "code",
        "id": "qxju4ItJKO8F",
        "outputId": "7560eb7d-0b51-45f6-90dd-f28cf7b82acf",
        "colab": {
          "base_uri": "https://localhost:8080/",
          "height": 608
        }
      },
      "source": [
        "import matplotlib.image  as mpimg\n",
        "import matplotlib.pyplot as plt\n",
        "\n",
        "acc=history.history['accuracy']\n",
        "val_acc=history.history['val_accuracy']\n",
        "loss=history.history['loss']\n",
        "val_loss=history.history['val_loss']\n",
        "\n",
        "epochs=range(len(acc)) # Get number of epochs\n",
        "\n",
        "# Plot training and validation accuracy per epoch\n",
        "\n",
        "plt.plot(epochs, acc, 'r')\n",
        "plt.plot(epochs, val_acc, 'b')\n",
        "plt.title('Training and validation accuracy')\n",
        "plt.xlabel(\"Epochs\")\n",
        "plt.ylabel(\"Accuracy\")\n",
        "plt.legend([\"Accuracy\", \"Validation Accuracy\"])\n",
        "\n",
        "plt.figure()\n",
        "\n",
        "# Plot training and validation loss per epoch\n",
        "\n",
        "plt.plot(epochs, loss, 'r')\n",
        "plt.plot(epochs, val_loss, 'b')\n",
        "plt.title('Training and validation loss')\n",
        "plt.xlabel(\"Epochs\")\n",
        "plt.ylabel(\"Loss\")\n",
        "plt.legend([\"Loss\", \"Validation Loss\"])\n",
        "\n",
        "plt.figure()\n"
      ],
      "execution_count": 0,
      "outputs": [
        {
          "output_type": "execute_result",
          "data": {
            "text/plain": [
              "<Figure size 432x288 with 0 Axes>"
            ]
          },
          "metadata": {
            "tags": []
          },
          "execution_count": 11
        },
        {
          "output_type": "display_data",
          "data": {
            "image/png": "[encoded data removed]",
            "text/plain": [
              "<Figure size 432x288 with 1 Axes>"
            ]
          },
          "metadata": {
            "tags": [],
            "needs_background": "light"
          }
        },
        {
          "output_type": "display_data",
          "data": {
            "image/png": "[encoded data removed]",
            "text/plain": [
              "<Figure size 432x288 with 1 Axes>"
            ]
          },
          "metadata": {
            "tags": [],
            "needs_background": "light"
          }
        },
        {
          "output_type": "display_data",
          "data": {
            "text/plain": [
              "<Figure size 432x288 with 0 Axes>"
            ]
          },
          "metadata": {
            "tags": []
          }
        }
      ]
    }
  ]
}